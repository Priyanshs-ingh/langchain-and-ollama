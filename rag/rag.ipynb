{
 "cells": [
  {
   "cell_type": "code",
   "execution_count": 2,
   "metadata": {},
   "outputs": [
    {
     "name": "stdout",
     "output_type": "stream",
     "text": [
      "^C\n",
      "Note: you may need to restart the kernel to use updated packages.\n"
     ]
    },
    {
     "name": "stdout",
     "output_type": "stream",
     "text": [
      "Collecting langchain.community\n",
      "  Using cached langchain_community-0.3.14-py3-none-any.whl.metadata (2.9 kB)\n",
      "Requirement already satisfied: PyYAML>=5.3 in c:\\users\\priyansh singh\\appdata\\local\\programs\\python\\python312\\lib\\site-packages (from langchain.community) (6.0.1)\n",
      "Requirement already satisfied: SQLAlchemy<3,>=1.4 in c:\\users\\priyansh singh\\appdata\\local\\programs\\python\\python312\\lib\\site-packages (from langchain.community) (2.0.37)\n",
      "Requirement already satisfied: aiohttp<4.0.0,>=3.8.3 in c:\\users\\priyansh singh\\appdata\\local\\programs\\python\\python312\\lib\\site-packages (from langchain.community) (3.11.11)\n",
      "Collecting dataclasses-json<0.7,>=0.5.7 (from langchain.community)\n",
      "  Using cached dataclasses_json-0.6.7-py3-none-any.whl.metadata (25 kB)\n",
      "Collecting httpx-sse<0.5.0,>=0.4.0 (from langchain.community)\n",
      "  Using cached httpx_sse-0.4.0-py3-none-any.whl.metadata (9.0 kB)\n",
      "Requirement already satisfied: langchain<0.4.0,>=0.3.14 in c:\\users\\priyansh singh\\appdata\\local\\programs\\python\\python312\\lib\\site-packages (from langchain.community) (0.3.14)\n",
      "Requirement already satisfied: langchain-core<0.4.0,>=0.3.29 in c:\\users\\priyansh singh\\appdata\\local\\programs\\python\\python312\\lib\\site-packages (from langchain.community) (0.3.30)\n",
      "Requirement already satisfied: langsmith<0.3,>=0.1.125 in c:\\users\\priyansh singh\\appdata\\local\\programs\\python\\python312\\lib\\site-packages (from langchain.community) (0.2.11)\n",
      "Requirement already satisfied: numpy<3,>=1.26.2 in c:\\users\\priyansh singh\\appdata\\local\\programs\\python\\python312\\lib\\site-packages (from langchain.community) (2.0.0)\n",
      "Collecting pydantic-settings<3.0.0,>=2.4.0 (from langchain.community)\n",
      "  Using cached pydantic_settings-2.7.1-py3-none-any.whl.metadata (3.5 kB)\n",
      "Requirement already satisfied: requests<3,>=2 in c:\\users\\priyansh singh\\appdata\\local\\programs\\python\\python312\\lib\\site-packages (from langchain.community) (2.32.3)\n",
      "Requirement already satisfied: tenacity!=8.4.0,<10,>=8.1.0 in c:\\users\\priyansh singh\\appdata\\local\\programs\\python\\python312\\lib\\site-packages (from langchain.community) (9.0.0)\n",
      "Requirement already satisfied: aiohappyeyeballs>=2.3.0 in c:\\users\\priyansh singh\\appdata\\local\\programs\\python\\python312\\lib\\site-packages (from aiohttp<4.0.0,>=3.8.3->langchain.community) (2.4.4)\n",
      "Requirement already satisfied: aiosignal>=1.1.2 in c:\\users\\priyansh singh\\appdata\\local\\programs\\python\\python312\\lib\\site-packages (from aiohttp<4.0.0,>=3.8.3->langchain.community) (1.3.2)\n",
      "Requirement already satisfied: attrs>=17.3.0 in c:\\users\\priyansh singh\\appdata\\local\\programs\\python\\python312\\lib\\site-packages (from aiohttp<4.0.0,>=3.8.3->langchain.community) (23.2.0)\n",
      "Requirement already satisfied: frozenlist>=1.1.1 in c:\\users\\priyansh singh\\appdata\\local\\programs\\python\\python312\\lib\\site-packages (from aiohttp<4.0.0,>=3.8.3->langchain.community) (1.5.0)\n",
      "Requirement already satisfied: multidict<7.0,>=4.5 in c:\\users\\priyansh singh\\appdata\\local\\programs\\python\\python312\\lib\\site-packages (from aiohttp<4.0.0,>=3.8.3->langchain.community) (6.1.0)\n",
      "Requirement already satisfied: propcache>=0.2.0 in c:\\users\\priyansh singh\\appdata\\local\\programs\\python\\python312\\lib\\site-packages (from aiohttp<4.0.0,>=3.8.3->langchain.community) (0.2.1)\n",
      "Requirement already satisfied: yarl<2.0,>=1.17.0 in c:\\users\\priyansh singh\\appdata\\local\\programs\\python\\python312\\lib\\site-packages (from aiohttp<4.0.0,>=3.8.3->langchain.community) (1.18.3)\n",
      "Collecting marshmallow<4.0.0,>=3.18.0 (from dataclasses-json<0.7,>=0.5.7->langchain.community)\n",
      "  Using cached marshmallow-3.25.1-py3-none-any.whl.metadata (7.3 kB)\n",
      "Collecting typing-inspect<1,>=0.4.0 (from dataclasses-json<0.7,>=0.5.7->langchain.community)\n",
      "  Using cached typing_inspect-0.9.0-py3-none-any.whl.metadata (1.5 kB)\n",
      "Requirement already satisfied: langchain-text-splitters<0.4.0,>=0.3.3 in c:\\users\\priyansh singh\\appdata\\local\\programs\\python\\python312\\lib\\site-packages (from langchain<0.4.0,>=0.3.14->langchain.community) (0.3.5)\n",
      "Requirement already satisfied: pydantic<3.0.0,>=2.7.4 in c:\\users\\priyansh singh\\appdata\\local\\programs\\python\\python312\\lib\\site-packages (from langchain<0.4.0,>=0.3.14->langchain.community) (2.10.5)\n",
      "Requirement already satisfied: jsonpatch<2.0,>=1.33 in c:\\users\\priyansh singh\\appdata\\local\\programs\\python\\python312\\lib\\site-packages (from langchain-core<0.4.0,>=0.3.29->langchain.community) (1.33)\n",
      "Requirement already satisfied: packaging<25,>=23.2 in c:\\users\\priyansh singh\\appdata\\local\\programs\\python\\python312\\lib\\site-packages (from langchain-core<0.4.0,>=0.3.29->langchain.community) (24.1)\n",
      "Requirement already satisfied: typing-extensions>=4.7 in c:\\users\\priyansh singh\\appdata\\local\\programs\\python\\python312\\lib\\site-packages (from langchain-core<0.4.0,>=0.3.29->langchain.community) (4.12.2)\n",
      "Requirement already satisfied: httpx<1,>=0.23.0 in c:\\users\\priyansh singh\\appdata\\local\\programs\\python\\python312\\lib\\site-packages (from langsmith<0.3,>=0.1.125->langchain.community) (0.27.0)\n",
      "Requirement already satisfied: orjson<4.0.0,>=3.9.14 in c:\\users\\priyansh singh\\appdata\\local\\programs\\python\\python312\\lib\\site-packages (from langsmith<0.3,>=0.1.125->langchain.community) (3.10.14)\n",
      "Requirement already satisfied: requests-toolbelt<2.0.0,>=1.0.0 in c:\\users\\priyansh singh\\appdata\\local\\programs\\python\\python312\\lib\\site-packages (from langsmith<0.3,>=0.1.125->langchain.community) (1.0.0)\n",
      "Requirement already satisfied: python-dotenv>=0.21.0 in c:\\users\\priyansh singh\\appdata\\local\\programs\\python\\python312\\lib\\site-packages (from pydantic-settings<3.0.0,>=2.4.0->langchain.community) (1.0.1)\n",
      "Requirement already satisfied: charset-normalizer<4,>=2 in c:\\users\\priyansh singh\\appdata\\local\\programs\\python\\python312\\lib\\site-packages (from requests<3,>=2->langchain.community) (3.3.2)\n",
      "Requirement already satisfied: idna<4,>=2.5 in c:\\users\\priyansh singh\\appdata\\local\\programs\\python\\python312\\lib\\site-packages (from requests<3,>=2->langchain.community) (3.7)\n",
      "Requirement already satisfied: urllib3<3,>=1.21.1 in c:\\users\\priyansh singh\\appdata\\local\\programs\\python\\python312\\lib\\site-packages (from requests<3,>=2->langchain.community) (2.2.2)\n",
      "Requirement already satisfied: certifi>=2017.4.17 in c:\\users\\priyansh singh\\appdata\\local\\programs\\python\\python312\\lib\\site-packages (from requests<3,>=2->langchain.community) (2024.7.4)\n",
      "Requirement already satisfied: greenlet!=0.4.17 in c:\\users\\priyansh singh\\appdata\\local\\programs\\python\\python312\\lib\\site-packages (from SQLAlchemy<3,>=1.4->langchain.community) (3.1.1)\n",
      "Requirement already satisfied: anyio in c:\\users\\priyansh singh\\appdata\\local\\programs\\python\\python312\\lib\\site-packages (from httpx<1,>=0.23.0->langsmith<0.3,>=0.1.125->langchain.community) (4.4.0)\n",
      "Requirement already satisfied: httpcore==1.* in c:\\users\\priyansh singh\\appdata\\local\\programs\\python\\python312\\lib\\site-packages (from httpx<1,>=0.23.0->langsmith<0.3,>=0.1.125->langchain.community) (1.0.5)\n",
      "Requirement already satisfied: sniffio in c:\\users\\priyansh singh\\appdata\\local\\programs\\python\\python312\\lib\\site-packages (from httpx<1,>=0.23.0->langsmith<0.3,>=0.1.125->langchain.community) (1.3.1)\n",
      "Requirement already satisfied: h11<0.15,>=0.13 in c:\\users\\priyansh singh\\appdata\\local\\programs\\python\\python312\\lib\\site-packages (from httpcore==1.*->httpx<1,>=0.23.0->langsmith<0.3,>=0.1.125->langchain.community) (0.14.0)\n",
      "Requirement already satisfied: jsonpointer>=1.9 in c:\\users\\priyansh singh\\appdata\\local\\programs\\python\\python312\\lib\\site-packages (from jsonpatch<2.0,>=1.33->langchain-core<0.4.0,>=0.3.29->langchain.community) (3.0.0)\n",
      "Requirement already satisfied: annotated-types>=0.6.0 in c:\\users\\priyansh singh\\appdata\\local\\programs\\python\\python312\\lib\\site-packages (from pydantic<3.0.0,>=2.7.4->langchain<0.4.0,>=0.3.14->langchain.community) (0.7.0)\n",
      "Requirement already satisfied: pydantic-core==2.27.2 in c:\\users\\priyansh singh\\appdata\\local\\programs\\python\\python312\\lib\\site-packages (from pydantic<3.0.0,>=2.7.4->langchain<0.4.0,>=0.3.14->langchain.community) (2.27.2)\n",
      "Collecting mypy-extensions>=0.3.0 (from typing-inspect<1,>=0.4.0->dataclasses-json<0.7,>=0.5.7->langchain.community)\n",
      "  Using cached mypy_extensions-1.0.0-py3-none-any.whl.metadata (1.1 kB)\n",
      "Using cached langchain_community-0.3.14-py3-none-any.whl (2.5 MB)\n",
      "Using cached dataclasses_json-0.6.7-py3-none-any.whl (28 kB)\n",
      "Using cached httpx_sse-0.4.0-py3-none-any.whl (7.8 kB)\n",
      "Using cached pydantic_settings-2.7.1-py3-none-any.whl (29 kB)\n",
      "Using cached marshmallow-3.25.1-py3-none-any.whl (49 kB)\n",
      "Using cached typing_inspect-0.9.0-py3-none-any.whl (8.8 kB)\n",
      "Using cached mypy_extensions-1.0.0-py3-none-any.whl (4.7 kB)\n",
      "Installing collected packages: mypy-extensions, marshmallow, httpx-sse, typing-inspect, pydantic-settings, dataclasses-json, langchain.community\n",
      "Successfully installed dataclasses-json-0.6.7 httpx-sse-0.4.0 langchain.community-0.3.14 marshmallow-3.25.1 mypy-extensions-1.0.0 pydantic-settings-2.7.1 typing-inspect-0.9.0\n"
     ]
    }
   ],
   "source": [
    "pip install langchain.community \n"
   ]
  },
  {
   "cell_type": "code",
   "execution_count": 9,
   "metadata": {},
   "outputs": [
    {
     "name": "stdout",
     "output_type": "stream",
     "text": [
      "Requirement already satisfied: langchain in c:\\users\\priyansh singh\\appdata\\local\\programs\\python\\python312\\lib\\site-packages (0.3.14)\n",
      "Requirement already satisfied: PyYAML>=5.3 in c:\\users\\priyansh singh\\appdata\\local\\programs\\python\\python312\\lib\\site-packages (from langchain) (6.0.1)\n",
      "Requirement already satisfied: SQLAlchemy<3,>=1.4 in c:\\users\\priyansh singh\\appdata\\local\\programs\\python\\python312\\lib\\site-packages (from langchain) (2.0.37)\n",
      "Requirement already satisfied: aiohttp<4.0.0,>=3.8.3 in c:\\users\\priyansh singh\\appdata\\local\\programs\\python\\python312\\lib\\site-packages (from langchain) (3.11.11)\n",
      "Requirement already satisfied: langchain-core<0.4.0,>=0.3.29 in c:\\users\\priyansh singh\\appdata\\local\\programs\\python\\python312\\lib\\site-packages (from langchain) (0.3.30)\n",
      "Requirement already satisfied: langchain-text-splitters<0.4.0,>=0.3.3 in c:\\users\\priyansh singh\\appdata\\local\\programs\\python\\python312\\lib\\site-packages (from langchain) (0.3.5)\n",
      "Requirement already satisfied: langsmith<0.3,>=0.1.17 in c:\\users\\priyansh singh\\appdata\\local\\programs\\python\\python312\\lib\\site-packages (from langchain) (0.2.11)\n",
      "Requirement already satisfied: numpy<3,>=1.26.2 in c:\\users\\priyansh singh\\appdata\\local\\programs\\python\\python312\\lib\\site-packages (from langchain) (2.0.0)\n",
      "Requirement already satisfied: pydantic<3.0.0,>=2.7.4 in c:\\users\\priyansh singh\\appdata\\local\\programs\\python\\python312\\lib\\site-packages (from langchain) (2.10.5)\n",
      "Requirement already satisfied: requests<3,>=2 in c:\\users\\priyansh singh\\appdata\\local\\programs\\python\\python312\\lib\\site-packages (from langchain) (2.32.3)\n",
      "Requirement already satisfied: tenacity!=8.4.0,<10,>=8.1.0 in c:\\users\\priyansh singh\\appdata\\local\\programs\\python\\python312\\lib\\site-packages (from langchain) (9.0.0)\n",
      "Requirement already satisfied: aiohappyeyeballs>=2.3.0 in c:\\users\\priyansh singh\\appdata\\local\\programs\\python\\python312\\lib\\site-packages (from aiohttp<4.0.0,>=3.8.3->langchain) (2.4.4)\n",
      "Requirement already satisfied: aiosignal>=1.1.2 in c:\\users\\priyansh singh\\appdata\\local\\programs\\python\\python312\\lib\\site-packages (from aiohttp<4.0.0,>=3.8.3->langchain) (1.3.2)\n",
      "Requirement already satisfied: attrs>=17.3.0 in c:\\users\\priyansh singh\\appdata\\local\\programs\\python\\python312\\lib\\site-packages (from aiohttp<4.0.0,>=3.8.3->langchain) (23.2.0)\n",
      "Requirement already satisfied: frozenlist>=1.1.1 in c:\\users\\priyansh singh\\appdata\\local\\programs\\python\\python312\\lib\\site-packages (from aiohttp<4.0.0,>=3.8.3->langchain) (1.5.0)\n",
      "Requirement already satisfied: multidict<7.0,>=4.5 in c:\\users\\priyansh singh\\appdata\\local\\programs\\python\\python312\\lib\\site-packages (from aiohttp<4.0.0,>=3.8.3->langchain) (6.1.0)\n",
      "Requirement already satisfied: propcache>=0.2.0 in c:\\users\\priyansh singh\\appdata\\local\\programs\\python\\python312\\lib\\site-packages (from aiohttp<4.0.0,>=3.8.3->langchain) (0.2.1)\n",
      "Requirement already satisfied: yarl<2.0,>=1.17.0 in c:\\users\\priyansh singh\\appdata\\local\\programs\\python\\python312\\lib\\site-packages (from aiohttp<4.0.0,>=3.8.3->langchain) (1.18.3)\n",
      "Requirement already satisfied: jsonpatch<2.0,>=1.33 in c:\\users\\priyansh singh\\appdata\\local\\programs\\python\\python312\\lib\\site-packages (from langchain-core<0.4.0,>=0.3.29->langchain) (1.33)\n",
      "Requirement already satisfied: packaging<25,>=23.2 in c:\\users\\priyansh singh\\appdata\\local\\programs\\python\\python312\\lib\\site-packages (from langchain-core<0.4.0,>=0.3.29->langchain) (24.1)\n",
      "Requirement already satisfied: typing-extensions>=4.7 in c:\\users\\priyansh singh\\appdata\\local\\programs\\python\\python312\\lib\\site-packages (from langchain-core<0.4.0,>=0.3.29->langchain) (4.12.2)\n",
      "Requirement already satisfied: httpx<1,>=0.23.0 in c:\\users\\priyansh singh\\appdata\\local\\programs\\python\\python312\\lib\\site-packages (from langsmith<0.3,>=0.1.17->langchain) (0.27.0)\n",
      "Requirement already satisfied: orjson<4.0.0,>=3.9.14 in c:\\users\\priyansh singh\\appdata\\local\\programs\\python\\python312\\lib\\site-packages (from langsmith<0.3,>=0.1.17->langchain) (3.10.14)\n",
      "Requirement already satisfied: requests-toolbelt<2.0.0,>=1.0.0 in c:\\users\\priyansh singh\\appdata\\local\\programs\\python\\python312\\lib\\site-packages (from langsmith<0.3,>=0.1.17->langchain) (1.0.0)\n",
      "Requirement already satisfied: annotated-types>=0.6.0 in c:\\users\\priyansh singh\\appdata\\local\\programs\\python\\python312\\lib\\site-packages (from pydantic<3.0.0,>=2.7.4->langchain) (0.7.0)\n",
      "Requirement already satisfied: pydantic-core==2.27.2 in c:\\users\\priyansh singh\\appdata\\local\\programs\\python\\python312\\lib\\site-packages (from pydantic<3.0.0,>=2.7.4->langchain) (2.27.2)\n",
      "Requirement already satisfied: charset-normalizer<4,>=2 in c:\\users\\priyansh singh\\appdata\\local\\programs\\python\\python312\\lib\\site-packages (from requests<3,>=2->langchain) (3.3.2)\n",
      "Requirement already satisfied: idna<4,>=2.5 in c:\\users\\priyansh singh\\appdata\\local\\programs\\python\\python312\\lib\\site-packages (from requests<3,>=2->langchain) (3.7)\n",
      "Requirement already satisfied: urllib3<3,>=1.21.1 in c:\\users\\priyansh singh\\appdata\\local\\programs\\python\\python312\\lib\\site-packages (from requests<3,>=2->langchain) (2.2.2)\n",
      "Requirement already satisfied: certifi>=2017.4.17 in c:\\users\\priyansh singh\\appdata\\local\\programs\\python\\python312\\lib\\site-packages (from requests<3,>=2->langchain) (2024.7.4)\n",
      "Requirement already satisfied: greenlet!=0.4.17 in c:\\users\\priyansh singh\\appdata\\local\\programs\\python\\python312\\lib\\site-packages (from SQLAlchemy<3,>=1.4->langchain) (3.1.1)\n",
      "Requirement already satisfied: anyio in c:\\users\\priyansh singh\\appdata\\local\\programs\\python\\python312\\lib\\site-packages (from httpx<1,>=0.23.0->langsmith<0.3,>=0.1.17->langchain) (4.4.0)\n",
      "Requirement already satisfied: httpcore==1.* in c:\\users\\priyansh singh\\appdata\\local\\programs\\python\\python312\\lib\\site-packages (from httpx<1,>=0.23.0->langsmith<0.3,>=0.1.17->langchain) (1.0.5)\n",
      "Requirement already satisfied: sniffio in c:\\users\\priyansh singh\\appdata\\local\\programs\\python\\python312\\lib\\site-packages (from httpx<1,>=0.23.0->langsmith<0.3,>=0.1.17->langchain) (1.3.1)\n",
      "Requirement already satisfied: h11<0.15,>=0.13 in c:\\users\\priyansh singh\\appdata\\local\\programs\\python\\python312\\lib\\site-packages (from httpcore==1.*->httpx<1,>=0.23.0->langsmith<0.3,>=0.1.17->langchain) (0.14.0)\n",
      "Requirement already satisfied: jsonpointer>=1.9 in c:\\users\\priyansh singh\\appdata\\local\\programs\\python\\python312\\lib\\site-packages (from jsonpatch<2.0,>=1.33->langchain-core<0.4.0,>=0.3.29->langchain) (3.0.0)\n",
      "Note: you may need to restart the kernel to use updated packages.\n"
     ]
    }
   ],
   "source": [
    "pip install --upgrade langchain\n"
   ]
  },
  {
   "cell_type": "code",
   "execution_count": 12,
   "metadata": {},
   "outputs": [
    {
     "data": {
      "text/plain": [
       "[Document(metadata={'source': 'speech.txt'}, page_content=\"The Wonders of Renewable Energy\\nThe need for sustainable energy has become crucial as the world faces challenges like climate change and depleting natural resources. Renewable energy sources, derived from natural processes, replenish at a rate faster than consumption. Among these are solar, wind, hydroelectric, geothermal, and biomass energy.\\n\\nSolar energy is harnessed from sunlight using photovoltaic cells, which convert sunlight directly into electricity. It is versatile and can be used for anything from powering homes to fueling satellites. Wind energy, on the other hand, uses turbines to convert kinetic energy from wind into electrical power. Wind farms, both onshore and offshore, are growing in popularity due to their minimal carbon footprint.\\n\\nHydroelectric power is one of the oldest and most reliable renewable energy sources. Dams on rivers control water flow to generate electricity. While effective, their construction can disrupt ecosystems. Geothermal energy taps into heat from beneath the Earth's surface, often used in regions with volcanic activity. It's a consistent and reliable energy source but requires significant initial investment.\\n\\nBiomass energy, derived from organic materials like wood, crop residues, and animal waste, can be directly burned or processed into biofuels. It's an excellent way to manage organic waste and produce clean energy simultaneously.\\n\\nInvestments in renewable energy offer multiple benefits. These include reduced greenhouse gas emissions, job creation, energy security, and a decrease in dependency on fossil fuels. However, challenges like intermittent energy supply, storage issues, and high upfront costs must be addressed to fully leverage these resources.\\n\\nTechnologies such as battery storage systems and smart grids are becoming integral in solving the reliability issue. Moreover, policies promoting renewable energy adoption, including subsidies and tax credits, encourage widespread adoption.\\n\\nCountries like Iceland and Norway already produce nearly 100% of their electricity from renewable sources. India, too, is expanding rapidly in this field, aiming to achieve 500 GW of renewable energy capacity by 2030.\\n\\nTo summarize, renewable energy is not just an environmental necessity but an economic opportunity. With continuous technological advancements, renewables hold the potential to shape a cleaner, sustainable, and resilient future.\")]"
      ]
     },
     "execution_count": 12,
     "metadata": {},
     "output_type": "execute_result"
    }
   ],
   "source": [
    "from langchain.document_loaders import TextLoader\n",
    "loader=TextLoader(\"speech.txt\")\n",
    "text_document=loader.load()\n",
    "text_document"
   ]
  },
  {
   "cell_type": "code",
   "execution_count": 13,
   "metadata": {},
   "outputs": [
    {
     "name": "stdout",
     "output_type": "stream",
     "text": [
      "Collecting bs4\n",
      "  Using cached bs4-0.0.2-py2.py3-none-any.whl.metadata (411 bytes)\n",
      "Requirement already satisfied: beautifulsoup4 in c:\\users\\priyansh singh\\appdata\\local\\programs\\python\\python312\\lib\\site-packages (from bs4) (4.12.3)\n",
      "Requirement already satisfied: soupsieve>1.2 in c:\\users\\priyansh singh\\appdata\\local\\programs\\python\\python312\\lib\\site-packages (from beautifulsoup4->bs4) (2.5)\n",
      "Using cached bs4-0.0.2-py2.py3-none-any.whl (1.2 kB)\n",
      "Installing collected packages: bs4\n",
      "Successfully installed bs4-0.0.2\n",
      "Note: you may need to restart the kernel to use updated packages.\n"
     ]
    }
   ],
   "source": [
    "pip install bs4 "
   ]
  },
  {
   "cell_type": "code",
   "execution_count": null,
   "metadata": {},
   "outputs": [],
   "source": [
    "pip install "
   ]
  },
  {
   "cell_type": "code",
   "execution_count": 17,
   "metadata": {},
   "outputs": [
    {
     "ename": "TypeError",
     "evalue": "str expected, not NoneType",
     "output_type": "error",
     "traceback": [
      "\u001b[1;31m---------------------------------------------------------------------------\u001b[0m",
      "\u001b[1;31mTypeError\u001b[0m                                 Traceback (most recent call last)",
      "Cell \u001b[1;32mIn[17], line 3\u001b[0m\n\u001b[0;32m      1\u001b[0m \u001b[38;5;28;01mimport\u001b[39;00m \u001b[38;5;21;01mos\u001b[39;00m \n\u001b[0;32m      2\u001b[0m \u001b[38;5;28;01mfrom\u001b[39;00m  \u001b[38;5;21;01mdotenv\u001b[39;00m \u001b[38;5;28;01mimport\u001b[39;00m load_dotenv\n\u001b[1;32m----> 3\u001b[0m \u001b[43mos\u001b[49m\u001b[38;5;241;43m.\u001b[39;49m\u001b[43menviron\u001b[49m\u001b[43m[\u001b[49m\u001b[38;5;124;43m'\u001b[39;49m\u001b[38;5;124;43mOPENAI_API_KEY\u001b[39;49m\u001b[38;5;124;43m'\u001b[39;49m\u001b[43m]\u001b[49m\u001b[38;5;241m=\u001b[39mos\u001b[38;5;241m.\u001b[39mgetenv(\u001b[38;5;124m\"\u001b[39m\u001b[38;5;124mOPENAI_API_KEY\u001b[39m\u001b[38;5;124m\"\u001b[39m)\n",
      "File \u001b[1;32m<frozen os>:719\u001b[0m, in \u001b[0;36m__setitem__\u001b[1;34m(self, key, value)\u001b[0m\n",
      "File \u001b[1;32m<frozen os>:779\u001b[0m, in \u001b[0;36mcheck_str\u001b[1;34m(value)\u001b[0m\n",
      "\u001b[1;31mTypeError\u001b[0m: str expected, not NoneType"
     ]
    }
   ],
   "source": [
    "import os \n",
    "from  dotenv import load_dotenv\n",
    "os.environ['OPENAI_API_KEY']=os.getenv(\"OPENAI_API_KEY\")"
   ]
  },
  {
   "cell_type": "code",
   "execution_count": null,
   "metadata": {},
   "outputs": [],
   "source": [
    "pip install bs4"
   ]
  },
  {
   "cell_type": "code",
   "execution_count": 5,
   "metadata": {},
   "outputs": [],
   "source": [
    "from langchain_community.document_loaders import WebBaseLoader\n",
    "import bs4 \n",
    "\n",
    "loader=WebBaseLoader(web_paths=(\"https://lilianweng.github.io/posts/2023-06-23-agent/\",),\n",
    "                     bs_kwargs=dict(parse_only=bs4.SoupStrainer(\n",
    "                         class_=(\"post-title\",\"post_content\",\"post_header\")\n",
    "                      ) ))\n",
    "\n",
    "\n",
    "text_documents=loader.load()"
   ]
  },
  {
   "cell_type": "code",
   "execution_count": 6,
   "metadata": {},
   "outputs": [
    {
     "data": {
      "text/plain": [
       "[Document(metadata={'source': 'https://lilianweng.github.io/posts/2023-06-23-agent/'}, page_content='\\n      LLM Powered Autonomous Agents\\n    ')]"
      ]
     },
     "execution_count": 6,
     "metadata": {},
     "output_type": "execute_result"
    }
   ],
   "source": [
    "text_documents"
   ]
  },
  {
   "cell_type": "code",
   "execution_count": 7,
   "metadata": {},
   "outputs": [
    {
     "name": "stdout",
     "output_type": "stream",
     "text": [
      "Collecting pypdf\n",
      "  Downloading pypdf-5.1.0-py3-none-any.whl.metadata (7.2 kB)\n",
      "Downloading pypdf-5.1.0-py3-none-any.whl (297 kB)\n",
      "Installing collected packages: pypdf\n",
      "Successfully installed pypdf-5.1.0\n",
      "Note: you may need to restart the kernel to use updated packages.\n"
     ]
    }
   ],
   "source": [
    "pip install pypdf"
   ]
  },
  {
   "cell_type": "code",
   "execution_count": 8,
   "metadata": {},
   "outputs": [],
   "source": [
    "from langchain_community.document_loaders import PyPDFLoader\n",
    "loader=PyPDFLoader('PriyanshSingh_BMU.pdf')\n",
    "docs=loader.load()"
   ]
  },
  {
   "cell_type": "code",
   "execution_count": 9,
   "metadata": {},
   "outputs": [
    {
     "data": {
      "text/plain": [
       "[Document(metadata={'source': 'PriyanshSingh_BMU.pdf', 'page': 0}, page_content='PriyanshSingh\\nEnthusiastic and detailed-oriented data professional skilled in Data\\nEngineering, Analytics, and Machine Learning. As a B.Tech 2nd year\\nstudent, I am expanding expertise into web and app development to\\nbuild tech solutions.\\ngithub-user\\n li-username\\n priyanshs042005@gmail.com\\n +91-7428100765\\nEXPERIENCE\\nRESEARCHANALYTICSINMATERIALSCIENCE\\nNov2023‑Present\\nÔ Conducted research on thermal properties of metals, analyzing how cooling\\nmethods impact structural changes.\\nÔ Utilized statistical techniques to interpret data and generate insights.\\nDATAANALYSTATCORATIATECHNOLOGIES\\nJan2024‑Mar2024\\nÔ Led data initiatives by extracting, cleaning, and analyzing large datasets for\\ndecisions.\\nÔ Implemented data mining techniques to improve operational efficiency.\\nÔ Developed analytics models with cross-functional teams.\\nDATAENGINEERINGTRAINEEATSCALAR\\nNov2024‑Dec2024\\nÔ Gained experience in deploying scalable data solutions using DBMS, Spark, and\\nHadoop.\\nANALYST‑DASHBOARDDEV.&DATAANALYSIS(SARC)\\nJun2024‑Jul2024\\nÔ Built an alumni dashboard using Power BI and Proxycurl for LinkedIn API data.\\nÔ Optimized data pipelines with SQL and automated workflows using Python.\\nPROJECTS\\nNEURABOT | LLM, NLP\\n2023\\nÔ Developed an employee query-handling chatbot for GAIL using LLM and NLP.\\nÔ Applied techniques for document summarization and secure 2F Aintegration.\\nHEALTH&LIFESTYLEANALYZER | PREDICTIVE ANAL YTICS\\n2023‑2024\\nÔ Built a platform to assess health impacts of habits using predictive analytics.\\nÔ Integrated demographic data to generate personalized insights.\\nFRAMEFLOW | MEN STACK\\n2023‑2024\\nÔ Developed a platform to connect photographers and clients with seamless UI.\\nSKILLS\\nTECHNICALSKILLS\\nData Engineering | Data Analytics |\\nMachine Learning | NLP | Power BI\\n| SQL | MEN Stack | C++ | Java |\\nPython | Proxycurl\\nEDUCATION\\nBMLMUNJALUNIVERSITY\\nB. T ECH ‑ CS & ENGINEERING\\nAug2023‑Present|CGPA:8.05\\nSCDAVPUBLICSCHOOL\\nCLASS XII | 78%\\n2015‑2019\\nSCDAVPUBLICSCHOOL\\nCLASS X | 90.01%\\n2015‑2019\\nPOSITIONSOF\\nRESPONSIBILITY\\nÔ Treasurer of NSS\\nÔ Member of SEET Community\\n(Aug 2023 - Mar 2024)\\nÔ Member of Technical Team,\\nSARC (Aug 2024 - Present)')]"
      ]
     },
     "execution_count": 9,
     "metadata": {},
     "output_type": "execute_result"
    }
   ],
   "source": [
    "docs"
   ]
  },
  {
   "cell_type": "code",
   "execution_count": 11,
   "metadata": {},
   "outputs": [
    {
     "data": {
      "text/plain": [
       "[Document(metadata={'source': 'PriyanshSingh_BMU.pdf', 'page': 0}, page_content='PriyanshSingh\\nEnthusiastic and detailed-oriented data professional skilled in Data\\nEngineering, Analytics, and Machine Learning. As a B.Tech 2nd year\\nstudent, I am expanding expertise into web and app development to\\nbuild tech solutions.\\ngithub-user\\n li-username\\n priyanshs042005@gmail.com\\n +91-7428100765\\nEXPERIENCE\\nRESEARCHANALYTICSINMATERIALSCIENCE\\nNov2023‑Present\\nÔ Conducted research on thermal properties of metals, analyzing how cooling\\nmethods impact structural changes.\\nÔ Utilized statistical techniques to interpret data and generate insights.\\nDATAANALYSTATCORATIATECHNOLOGIES\\nJan2024‑Mar2024\\nÔ Led data initiatives by extracting, cleaning, and analyzing large datasets for\\ndecisions.\\nÔ Implemented data mining techniques to improve operational efficiency.\\nÔ Developed analytics models with cross-functional teams.\\nDATAENGINEERINGTRAINEEATSCALAR\\nNov2024‑Dec2024\\nÔ Gained experience in deploying scalable data solutions using DBMS, Spark, and\\nHadoop.\\nANALYST‑DASHBOARDDEV.&DATAANALYSIS(SARC)'),\n",
       " Document(metadata={'source': 'PriyanshSingh_BMU.pdf', 'page': 0}, page_content='DATAENGINEERINGTRAINEEATSCALAR\\nNov2024‑Dec2024\\nÔ Gained experience in deploying scalable data solutions using DBMS, Spark, and\\nHadoop.\\nANALYST‑DASHBOARDDEV.&DATAANALYSIS(SARC)\\nJun2024‑Jul2024\\nÔ Built an alumni dashboard using Power BI and Proxycurl for LinkedIn API data.\\nÔ Optimized data pipelines with SQL and automated workflows using Python.\\nPROJECTS\\nNEURABOT | LLM, NLP\\n2023\\nÔ Developed an employee query-handling chatbot for GAIL using LLM and NLP.\\nÔ Applied techniques for document summarization and secure 2F Aintegration.\\nHEALTH&LIFESTYLEANALYZER | PREDICTIVE ANAL YTICS\\n2023‑2024\\nÔ Built a platform to assess health impacts of habits using predictive analytics.\\nÔ Integrated demographic data to generate personalized insights.\\nFRAMEFLOW | MEN STACK\\n2023‑2024\\nÔ Developed a platform to connect photographers and clients with seamless UI.\\nSKILLS\\nTECHNICALSKILLS\\nData Engineering | Data Analytics |\\nMachine Learning | NLP | Power BI\\n| SQL | MEN Stack | C++ | Java |\\nPython | Proxycurl'),\n",
       " Document(metadata={'source': 'PriyanshSingh_BMU.pdf', 'page': 0}, page_content='SKILLS\\nTECHNICALSKILLS\\nData Engineering | Data Analytics |\\nMachine Learning | NLP | Power BI\\n| SQL | MEN Stack | C++ | Java |\\nPython | Proxycurl\\nEDUCATION\\nBMLMUNJALUNIVERSITY\\nB. T ECH ‑ CS & ENGINEERING\\nAug2023‑Present|CGPA:8.05\\nSCDAVPUBLICSCHOOL\\nCLASS XII | 78%\\n2015‑2019\\nSCDAVPUBLICSCHOOL\\nCLASS X | 90.01%\\n2015‑2019\\nPOSITIONSOF\\nRESPONSIBILITY\\nÔ Treasurer of NSS\\nÔ Member of SEET Community\\n(Aug 2023 - Mar 2024)\\nÔ Member of Technical Team,\\nSARC (Aug 2024 - Present)')]"
      ]
     },
     "execution_count": 11,
     "metadata": {},
     "output_type": "execute_result"
    }
   ],
   "source": [
    "from langchain.text_splitter import RecursiveCharacterTextSplitter\n",
    "text_splitter=RecursiveCharacterTextSplitter(chunk_size=1000,chunk_overlap=200)\n",
    "documents=text_splitter.split_documents(docs)\n",
    "documents[:5]"
   ]
  },
  {
   "cell_type": "code",
   "execution_count": 12,
   "metadata": {},
   "outputs": [
    {
     "data": {
      "text/plain": [
       "[Document(metadata={'source': 'PriyanshSingh_BMU.pdf', 'page': 0}, page_content='PriyanshSingh\\nEnthusiastic and detailed-oriented data professional skilled in Data\\nEngineering, Analytics, and Machine Learning. As a B.Tech 2nd year\\nstudent, I am expanding expertise into web and app development to\\nbuild tech solutions.\\ngithub-user\\n li-username\\n priyanshs042005@gmail.com\\n +91-7428100765\\nEXPERIENCE\\nRESEARCHANALYTICSINMATERIALSCIENCE\\nNov2023‑Present\\nÔ Conducted research on thermal properties of metals, analyzing how cooling\\nmethods impact structural changes.\\nÔ Utilized statistical techniques to interpret data and generate insights.\\nDATAANALYSTATCORATIATECHNOLOGIES\\nJan2024‑Mar2024\\nÔ Led data initiatives by extracting, cleaning, and analyzing large datasets for\\ndecisions.\\nÔ Implemented data mining techniques to improve operational efficiency.\\nÔ Developed analytics models with cross-functional teams.\\nDATAENGINEERINGTRAINEEATSCALAR\\nNov2024‑Dec2024\\nÔ Gained experience in deploying scalable data solutions using DBMS, Spark, and\\nHadoop.\\nANALYST‑DASHBOARDDEV.&DATAANALYSIS(SARC)'),\n",
       " Document(metadata={'source': 'PriyanshSingh_BMU.pdf', 'page': 0}, page_content='DATAENGINEERINGTRAINEEATSCALAR\\nNov2024‑Dec2024\\nÔ Gained experience in deploying scalable data solutions using DBMS, Spark, and\\nHadoop.\\nANALYST‑DASHBOARDDEV.&DATAANALYSIS(SARC)\\nJun2024‑Jul2024\\nÔ Built an alumni dashboard using Power BI and Proxycurl for LinkedIn API data.\\nÔ Optimized data pipelines with SQL and automated workflows using Python.\\nPROJECTS\\nNEURABOT | LLM, NLP\\n2023\\nÔ Developed an employee query-handling chatbot for GAIL using LLM and NLP.\\nÔ Applied techniques for document summarization and secure 2F Aintegration.\\nHEALTH&LIFESTYLEANALYZER | PREDICTIVE ANAL YTICS\\n2023‑2024\\nÔ Built a platform to assess health impacts of habits using predictive analytics.\\nÔ Integrated demographic data to generate personalized insights.\\nFRAMEFLOW | MEN STACK\\n2023‑2024\\nÔ Developed a platform to connect photographers and clients with seamless UI.\\nSKILLS\\nTECHNICALSKILLS\\nData Engineering | Data Analytics |\\nMachine Learning | NLP | Power BI\\n| SQL | MEN Stack | C++ | Java |\\nPython | Proxycurl'),\n",
       " Document(metadata={'source': 'PriyanshSingh_BMU.pdf', 'page': 0}, page_content='SKILLS\\nTECHNICALSKILLS\\nData Engineering | Data Analytics |\\nMachine Learning | NLP | Power BI\\n| SQL | MEN Stack | C++ | Java |\\nPython | Proxycurl\\nEDUCATION\\nBMLMUNJALUNIVERSITY\\nB. T ECH ‑ CS & ENGINEERING\\nAug2023‑Present|CGPA:8.05\\nSCDAVPUBLICSCHOOL\\nCLASS XII | 78%\\n2015‑2019\\nSCDAVPUBLICSCHOOL\\nCLASS X | 90.01%\\n2015‑2019\\nPOSITIONSOF\\nRESPONSIBILITY\\nÔ Treasurer of NSS\\nÔ Member of SEET Community\\n(Aug 2023 - Mar 2024)\\nÔ Member of Technical Team,\\nSARC (Aug 2024 - Present)')]"
      ]
     },
     "execution_count": 12,
     "metadata": {},
     "output_type": "execute_result"
    }
   ],
   "source": [
    "documents"
   ]
  },
  {
   "cell_type": "code",
   "execution_count": 20,
   "metadata": {},
   "outputs": [
    {
     "name": "stdout",
     "output_type": "stream",
     "text": [
      "Collecting cmake\n",
      "  Downloading cmake-3.31.4-py3-none-win_amd64.whl.metadata (6.5 kB)\n",
      "Downloading cmake-3.31.4-py3-none-win_amd64.whl (36.5 MB)\n",
      "   ---------------------------------------- 0.0/36.5 MB ? eta -:--:--\n",
      "    --------------------------------------- 0.8/36.5 MB 6.7 MB/s eta 0:00:06\n",
      "   -- ------------------------------------- 1.8/36.5 MB 4.6 MB/s eta 0:00:08\n",
      "   -- ------------------------------------- 2.6/36.5 MB 4.2 MB/s eta 0:00:09\n",
      "   --- ------------------------------------ 3.4/36.5 MB 4.2 MB/s eta 0:00:08\n",
      "   ---- ----------------------------------- 4.2/36.5 MB 4.0 MB/s eta 0:00:09\n",
      "   ----- ---------------------------------- 4.7/36.5 MB 3.8 MB/s eta 0:00:09\n",
      "   ------ --------------------------------- 5.5/36.5 MB 3.6 MB/s eta 0:00:09\n",
      "   ------ --------------------------------- 6.3/36.5 MB 3.6 MB/s eta 0:00:09\n",
      "   ------- -------------------------------- 7.1/36.5 MB 3.6 MB/s eta 0:00:09\n",
      "   -------- ------------------------------- 7.6/36.5 MB 3.5 MB/s eta 0:00:09\n",
      "   -------- ------------------------------- 8.1/36.5 MB 3.5 MB/s eta 0:00:09\n",
      "   --------- ------------------------------ 8.7/36.5 MB 3.4 MB/s eta 0:00:09\n",
      "   ---------- ----------------------------- 9.4/36.5 MB 3.4 MB/s eta 0:00:09\n",
      "   ----------- ---------------------------- 10.2/36.5 MB 3.4 MB/s eta 0:00:08\n",
      "   ------------ --------------------------- 11.0/36.5 MB 3.4 MB/s eta 0:00:08\n",
      "   ------------ --------------------------- 11.8/36.5 MB 3.4 MB/s eta 0:00:08\n",
      "   ------------- -------------------------- 12.6/36.5 MB 3.5 MB/s eta 0:00:07\n",
      "   -------------- ------------------------- 13.4/36.5 MB 3.5 MB/s eta 0:00:07\n",
      "   --------------- ------------------------ 14.2/36.5 MB 3.5 MB/s eta 0:00:07\n",
      "   ---------------- ----------------------- 14.9/36.5 MB 3.5 MB/s eta 0:00:07\n",
      "   ----------------- ---------------------- 15.7/36.5 MB 3.5 MB/s eta 0:00:06\n",
      "   ------------------ --------------------- 16.8/36.5 MB 3.6 MB/s eta 0:00:06\n",
      "   ------------------- -------------------- 17.6/36.5 MB 3.6 MB/s eta 0:00:06\n",
      "   -------------------- ------------------- 18.4/36.5 MB 3.6 MB/s eta 0:00:06\n",
      "   -------------------- ------------------- 19.1/36.5 MB 3.6 MB/s eta 0:00:05\n",
      "   --------------------- ------------------ 19.9/36.5 MB 3.6 MB/s eta 0:00:05\n",
      "   ---------------------- ----------------- 20.7/36.5 MB 3.6 MB/s eta 0:00:05\n",
      "   ----------------------- ---------------- 21.5/36.5 MB 3.6 MB/s eta 0:00:05\n",
      "   ------------------------ --------------- 22.3/36.5 MB 3.6 MB/s eta 0:00:04\n",
      "   ------------------------- -------------- 23.1/36.5 MB 3.6 MB/s eta 0:00:04\n",
      "   -------------------------- ------------- 23.9/36.5 MB 3.6 MB/s eta 0:00:04\n",
      "   --------------------------- ------------ 24.6/36.5 MB 3.6 MB/s eta 0:00:04\n",
      "   --------------------------- ------------ 25.4/36.5 MB 3.6 MB/s eta 0:00:04\n",
      "   ----------------------------- ---------- 26.5/36.5 MB 3.7 MB/s eta 0:00:03\n",
      "   ----------------------------- ---------- 27.3/36.5 MB 3.7 MB/s eta 0:00:03\n",
      "   ------------------------------ --------- 28.0/36.5 MB 3.7 MB/s eta 0:00:03\n",
      "   ------------------------------- -------- 28.8/36.5 MB 3.7 MB/s eta 0:00:03\n",
      "   -------------------------------- ------- 29.6/36.5 MB 3.7 MB/s eta 0:00:02\n",
      "   --------------------------------- ------ 30.4/36.5 MB 3.7 MB/s eta 0:00:02\n",
      "   ---------------------------------- ----- 31.2/36.5 MB 3.7 MB/s eta 0:00:02\n",
      "   ----------------------------------- ---- 32.0/36.5 MB 3.7 MB/s eta 0:00:02\n",
      "   ----------------------------------- ---- 32.8/36.5 MB 3.7 MB/s eta 0:00:02\n",
      "   ------------------------------------- -- 33.8/36.5 MB 3.7 MB/s eta 0:00:01\n",
      "   ------------------------------------- -- 34.6/36.5 MB 3.7 MB/s eta 0:00:01\n",
      "   -------------------------------------- - 35.4/36.5 MB 3.7 MB/s eta 0:00:01\n",
      "   ---------------------------------------  36.2/36.5 MB 3.7 MB/s eta 0:00:01\n",
      "   ---------------------------------------- 36.5/36.5 MB 3.7 MB/s eta 0:00:00\n",
      "Installing collected packages: cmake\n",
      "Successfully installed cmake-3.31.4\n",
      "Note: you may need to restart the kernel to use updated packages.\n"
     ]
    }
   ],
   "source": [
    "pip install cmake\n"
   ]
  },
  {
   "cell_type": "code",
   "execution_count": 22,
   "metadata": {},
   "outputs": [
    {
     "name": "stdout",
     "output_type": "stream",
     "text": [
      "Note: you may need to restart the kernel to use updated packages.\n"
     ]
    },
    {
     "name": "stderr",
     "output_type": "stream",
     "text": [
      "ERROR: Could not find a version that satisfies the requirement path_to_downloaded_whl (from versions: none)\n",
      "ERROR: No matching distribution found for path_to_downloaded_whl\n"
     ]
    }
   ],
   "source": [
    "pip install path_to_downloaded_whl\n"
   ]
  },
  {
   "cell_type": "code",
   "execution_count": 25,
   "metadata": {},
   "outputs": [
    {
     "name": "stdout",
     "output_type": "stream",
     "text": [
      "Using pip 24.3.1 from c:\\Users\\priyansh singh\\AppData\\Local\\Programs\\Python\\Python312\\Lib\\site-packages\\pip (python 3.12)\n",
      "Collecting chroma-hnswlib\n",
      "  Using cached chroma_hnswlib-0.7.6.tar.gz (32 kB)\n",
      "  Installing build dependencies: started\n",
      "  Installing build dependencies: finished with status 'done'\n",
      "  Getting requirements to build wheel: started\n",
      "  Getting requirements to build wheel: finished with status 'done'\n",
      "  Preparing metadata (pyproject.toml): started\n",
      "  Preparing metadata (pyproject.toml): finished with status 'done'\n",
      "Requirement already satisfied: numpy in c:\\users\\priyansh singh\\appdata\\local\\programs\\python\\python312\\lib\\site-packages (from chroma-hnswlib) (2.0.0)\n",
      "Building wheels for collected packages: chroma-hnswlib\n",
      "  Building wheel for chroma-hnswlib (pyproject.toml): started\n",
      "  Building wheel for chroma-hnswlib (pyproject.toml): finished with status 'error'\n",
      "Failed to build chroma-hnswlib\n",
      "Note: you may need to restart the kernel to use updated packages.\n"
     ]
    },
    {
     "name": "stderr",
     "output_type": "stream",
     "text": [
      "  Running command pip subprocess to install build dependencies\n",
      "  Using pip 24.3.1 from C:\\Users\\priyansh singh\\AppData\\Local\\Programs\\Python\\Python312\\Lib\\site-packages\\pip (python 3.12)\n",
      "  Collecting setuptools>=42\n",
      "    Obtaining dependency information for setuptools>=42 from https://files.pythonhosted.org/packages/69/8a/b9dc7678803429e4a3bc9ba462fa3dd9066824d3c607490235c6a796be5a/setuptools-75.8.0-py3-none-any.whl.metadata\n",
      "    Using cached setuptools-75.8.0-py3-none-any.whl.metadata (6.7 kB)\n",
      "  Collecting wheel\n",
      "    Obtaining dependency information for wheel from https://files.pythonhosted.org/packages/0b/2c/87f3254fd8ffd29e4c02732eee68a83a1d3c346ae39bc6822dcbcb697f2b/wheel-0.45.1-py3-none-any.whl.metadata\n",
      "    Using cached wheel-0.45.1-py3-none-any.whl.metadata (2.3 kB)\n",
      "    Link requires a different Python (3.12.5 not in: '>=3.7,<3.11'): https://files.pythonhosted.org/packages/3a/be/650f9c091ef71cb01d735775d554e068752d3ff63d7943b26316dc401749/numpy-1.21.2.zip (from https://pypi.org/simple/numpy/) (requires-python:>=3.7,<3.11)\n",
      "    Link requires a different Python (3.12.5 not in: '>=3.7,<3.11'): https://files.pythonhosted.org/packages/5f/d6/ad58ded26556eaeaa8c971e08b6466f17c4ac4d786cd3d800e26ce59cc01/numpy-1.21.3.zip (from https://pypi.org/simple/numpy/) (requires-python:>=3.7,<3.11)\n",
      "    Link requires a different Python (3.12.5 not in: '>=3.7,<3.11'): https://files.pythonhosted.org/packages/fb/48/b0708ebd7718a8933f0d3937513ef8ef2f4f04529f1f66ca86d873043921/numpy-1.21.4.zip (from https://pypi.org/simple/numpy/) (requires-python:>=3.7,<3.11)\n",
      "    Link requires a different Python (3.12.5 not in: '>=3.7,<3.11'): https://files.pythonhosted.org/packages/c2/a8/a924a09492bdfee8c2ec3094d0a13f2799800b4fdc9c890738aeeb12c72e/numpy-1.21.5.zip (from https://pypi.org/simple/numpy/) (requires-python:>=3.7,<3.11)\n",
      "    Link requires a different Python (3.12.5 not in: '>=3.7,<3.11'): https://files.pythonhosted.org/packages/45/b7/de7b8e67f2232c26af57c205aaad29fe17754f793404f59c8a730c7a191a/numpy-1.21.6.zip (from https://pypi.org/simple/numpy/) (requires-python:>=3.7,<3.11)\n",
      "  Collecting numpy>=1.10.0\n",
      "    Obtaining dependency information for numpy>=1.10.0 from https://files.pythonhosted.org/packages/fc/84/7f801a42a67b9772a883223a0a1e12069a14626c81a732bd70aac57aebc1/numpy-2.2.2-cp312-cp312-win_amd64.whl.metadata\n",
      "    Using cached numpy-2.2.2-cp312-cp312-win_amd64.whl.metadata (60 kB)\n",
      "  Collecting pybind11>=2.0\n",
      "    Obtaining dependency information for pybind11>=2.0 from https://files.pythonhosted.org/packages/13/2f/0f24b288e2ce56f51c920137620b4434a38fd80583dbbe24fc2a1656c388/pybind11-2.13.6-py3-none-any.whl.metadata\n",
      "    Using cached pybind11-2.13.6-py3-none-any.whl.metadata (9.5 kB)\n",
      "  Using cached setuptools-75.8.0-py3-none-any.whl (1.2 MB)\n",
      "  Using cached wheel-0.45.1-py3-none-any.whl (72 kB)\n",
      "  Using cached numpy-2.2.2-cp312-cp312-win_amd64.whl (12.6 MB)\n",
      "  Using cached pybind11-2.13.6-py3-none-any.whl (243 kB)\n",
      "  Installing collected packages: wheel, setuptools, pybind11, numpy\n",
      "    Creating C:\\Users\\priyansh singh\\AppData\\Local\\Temp\\pip-build-env-vrimvzxc\\overlay\\Scripts\n",
      "  ERROR: pip's dependency resolver does not currently take into account all the packages that are installed. This behaviour is the source of the following dependency conflicts.\n",
      "  numba 0.60.0 requires numpy<2.1,>=1.22, but you have numpy 2.2.2 which is incompatible.\n",
      "  Successfully installed numpy-2.2.2 pybind11-2.13.6 setuptools-75.8.0 wheel-0.45.1\n",
      "  Running command Getting requirements to build wheel\n",
      "  running egg_info\n",
      "  writing chroma_hnswlib.egg-info\\PKG-INFO\n",
      "  writing dependency_links to chroma_hnswlib.egg-info\\dependency_links.txt\n",
      "  writing requirements to chroma_hnswlib.egg-info\\requires.txt\n",
      "  writing top-level names to chroma_hnswlib.egg-info\\top_level.txt\n",
      "  reading manifest file 'chroma_hnswlib.egg-info\\SOURCES.txt'\n",
      "  reading manifest template 'MANIFEST.in'\n",
      "  adding license file 'LICENSE'\n",
      "  writing manifest file 'chroma_hnswlib.egg-info\\SOURCES.txt'\n",
      "  Running command Preparing metadata (pyproject.toml)\n",
      "  running dist_info\n",
      "  creating C:\\Users\\priyansh singh\\AppData\\Local\\Temp\\pip-modern-metadata-hdzko54e\\chroma_hnswlib.egg-info\n",
      "  writing C:\\Users\\priyansh singh\\AppData\\Local\\Temp\\pip-modern-metadata-hdzko54e\\chroma_hnswlib.egg-info\\PKG-INFO\n",
      "  writing dependency_links to C:\\Users\\priyansh singh\\AppData\\Local\\Temp\\pip-modern-metadata-hdzko54e\\chroma_hnswlib.egg-info\\dependency_links.txt\n",
      "  writing requirements to C:\\Users\\priyansh singh\\AppData\\Local\\Temp\\pip-modern-metadata-hdzko54e\\chroma_hnswlib.egg-info\\requires.txt\n",
      "  writing top-level names to C:\\Users\\priyansh singh\\AppData\\Local\\Temp\\pip-modern-metadata-hdzko54e\\chroma_hnswlib.egg-info\\top_level.txt\n",
      "  writing manifest file 'C:\\Users\\priyansh singh\\AppData\\Local\\Temp\\pip-modern-metadata-hdzko54e\\chroma_hnswlib.egg-info\\SOURCES.txt'\n",
      "  reading manifest file 'C:\\Users\\priyansh singh\\AppData\\Local\\Temp\\pip-modern-metadata-hdzko54e\\chroma_hnswlib.egg-info\\SOURCES.txt'\n",
      "  reading manifest template 'MANIFEST.in'\n",
      "  adding license file 'LICENSE'\n",
      "  writing manifest file 'C:\\Users\\priyansh singh\\AppData\\Local\\Temp\\pip-modern-metadata-hdzko54e\\chroma_hnswlib.egg-info\\SOURCES.txt'\n",
      "  creating 'C:\\Users\\priyansh singh\\AppData\\Local\\Temp\\pip-modern-metadata-hdzko54e\\chroma_hnswlib-0.7.6.dist-info'\n",
      "  Running command Building wheel for chroma-hnswlib (pyproject.toml)\n",
      "  running bdist_wheel\n",
      "  running build\n",
      "  running build_ext\n",
      "  building 'hnswlib' extension\n",
      "  error: Microsoft Visual C++ 14.0 or greater is required. Get it with \"Microsoft C++ Build Tools\": https://visualstudio.microsoft.com/visual-cpp-build-tools/\n",
      "  error: subprocess-exited-with-error\n",
      "  \n",
      "  × Building wheel for chroma-hnswlib (pyproject.toml) did not run successfully.\n",
      "  │ exit code: 1\n",
      "  ╰─> See above for output.\n",
      "  \n",
      "  note: This error originates from a subprocess, and is likely not a problem with pip.\n",
      "  full command: 'c:\\Users\\priyansh singh\\AppData\\Local\\Programs\\Python\\Python312\\python.exe' 'c:\\Users\\priyansh singh\\AppData\\Local\\Programs\\Python\\Python312\\Lib\\site-packages\\pip\\_vendor\\pyproject_hooks\\_in_process\\_in_process.py' build_wheel 'C:\\Users\\PRIYAN~1\\AppData\\Local\\Temp\\tmp2nne4o2q'\n",
      "  cwd: C:\\Users\\priyansh singh\\AppData\\Local\\Temp\\pip-install-3hm83suq\\chroma-hnswlib_8a6a23f744d24d9893ef5073fb48f91e\n",
      "  ERROR: Failed building wheel for chroma-hnswlib\n",
      "ERROR: ERROR: Failed to build installable wheels for some pyproject.toml based projects (chroma-hnswlib)\n"
     ]
    }
   ],
   "source": [
    "pip install chroma-hnswlib --verbose"
   ]
  },
  {
   "cell_type": "code",
   "execution_count": 14,
   "metadata": {},
   "outputs": [
    {
     "name": "stdout",
     "output_type": "stream",
     "text": [
      "Collecting faiss-cpu\n",
      "  Downloading faiss_cpu-1.9.0.post1-cp312-cp312-win_amd64.whl.metadata (4.5 kB)\n",
      "Requirement already satisfied: numpy<3.0,>=1.25.0 in c:\\users\\priyansh singh\\appdata\\local\\programs\\python\\python312\\lib\\site-packages (from faiss-cpu) (2.0.0)\n",
      "Requirement already satisfied: packaging in c:\\users\\priyansh singh\\appdata\\local\\programs\\python\\python312\\lib\\site-packages (from faiss-cpu) (24.1)\n",
      "Downloading faiss_cpu-1.9.0.post1-cp312-cp312-win_amd64.whl (13.8 MB)\n",
      "   ---------------------------------------- 0.0/13.8 MB ? eta -:--:--\n",
      "   --- ------------------------------------ 1.0/13.8 MB 7.2 MB/s eta 0:00:02\n",
      "   ----- ---------------------------------- 1.8/13.8 MB 4.8 MB/s eta 0:00:03\n",
      "   ------- -------------------------------- 2.6/13.8 MB 4.4 MB/s eta 0:00:03\n",
      "   --------- ------------------------------ 3.4/13.8 MB 4.3 MB/s eta 0:00:03\n",
      "   ------------ --------------------------- 4.5/13.8 MB 4.2 MB/s eta 0:00:03\n",
      "   --------------- ------------------------ 5.2/13.8 MB 4.1 MB/s eta 0:00:03\n",
      "   ----------------- ---------------------- 6.0/13.8 MB 4.1 MB/s eta 0:00:02\n",
      "   ------------------- -------------------- 6.8/13.8 MB 4.1 MB/s eta 0:00:02\n",
      "   --------------------- ------------------ 7.6/13.8 MB 4.0 MB/s eta 0:00:02\n",
      "   ------------------------ --------------- 8.4/13.8 MB 4.0 MB/s eta 0:00:02\n",
      "   -------------------------- ------------- 9.2/13.8 MB 4.0 MB/s eta 0:00:02\n",
      "   ---------------------------- ----------- 10.0/13.8 MB 4.0 MB/s eta 0:00:01\n",
      "   ------------------------------- -------- 10.7/13.8 MB 3.9 MB/s eta 0:00:01\n",
      "   --------------------------------- ------ 11.5/13.8 MB 3.9 MB/s eta 0:00:01\n",
      "   ----------------------------------- ---- 12.3/13.8 MB 3.9 MB/s eta 0:00:01\n",
      "   -------------------------------------- - 13.4/13.8 MB 3.9 MB/s eta 0:00:01\n",
      "   ---------------------------------------- 13.8/13.8 MB 3.9 MB/s eta 0:00:00\n",
      "Installing collected packages: faiss-cpu\n",
      "Successfully installed faiss-cpu-1.9.0.post1\n",
      "Note: you may need to restart the kernel to use updated packages.\n"
     ]
    }
   ],
   "source": [
    "pip install faiss-cpu"
   ]
  },
  {
   "cell_type": "code",
   "execution_count": 26,
   "metadata": {},
   "outputs": [
    {
     "ename": "ImportError",
     "evalue": "Could not import chromadb python package. Please install it with `pip install chromadb`.",
     "output_type": "error",
     "traceback": [
      "\u001b[1;31m---------------------------------------------------------------------------\u001b[0m",
      "\u001b[1;31mModuleNotFoundError\u001b[0m                       Traceback (most recent call last)",
      "File \u001b[1;32mc:\\Users\\priyansh singh\\AppData\\Local\\Programs\\Python\\Python312\\Lib\\site-packages\\langchain_community\\vectorstores\\chroma.py:83\u001b[0m, in \u001b[0;36mChroma.__init__\u001b[1;34m(self, collection_name, embedding_function, persist_directory, client_settings, collection_metadata, client, relevance_score_fn)\u001b[0m\n\u001b[0;32m     82\u001b[0m \u001b[38;5;28;01mtry\u001b[39;00m:\n\u001b[1;32m---> 83\u001b[0m     \u001b[38;5;28;01mimport\u001b[39;00m \u001b[38;5;21;01mchromadb\u001b[39;00m\n\u001b[0;32m     84\u001b[0m     \u001b[38;5;28;01mimport\u001b[39;00m \u001b[38;5;21;01mchromadb\u001b[39;00m\u001b[38;5;21;01m.\u001b[39;00m\u001b[38;5;21;01mconfig\u001b[39;00m\n",
      "\u001b[1;31mModuleNotFoundError\u001b[0m: No module named 'chromadb'",
      "\nDuring handling of the above exception, another exception occurred:\n",
      "\u001b[1;31mImportError\u001b[0m                               Traceback (most recent call last)",
      "Cell \u001b[1;32mIn[26], line 4\u001b[0m\n\u001b[0;32m      2\u001b[0m \u001b[38;5;28;01mfrom\u001b[39;00m \u001b[38;5;21;01mlangchain_community\u001b[39;00m\u001b[38;5;21;01m.\u001b[39;00m\u001b[38;5;21;01membeddings\u001b[39;00m \u001b[38;5;28;01mimport\u001b[39;00m OllamaEmbeddings\n\u001b[0;32m      3\u001b[0m \u001b[38;5;28;01mfrom\u001b[39;00m \u001b[38;5;21;01mlangchain_community\u001b[39;00m\u001b[38;5;21;01m.\u001b[39;00m\u001b[38;5;21;01mvectorstores\u001b[39;00m \u001b[38;5;28;01mimport\u001b[39;00m Chroma\n\u001b[1;32m----> 4\u001b[0m dfb\u001b[38;5;241m=\u001b[39m\u001b[43mChroma\u001b[49m\u001b[38;5;241;43m.\u001b[39;49m\u001b[43mfrom_documents\u001b[49m\u001b[43m(\u001b[49m\u001b[43mdocuments\u001b[49m\u001b[43m[\u001b[49m\u001b[43m:\u001b[49m\u001b[38;5;241;43m20\u001b[39;49m\u001b[43m]\u001b[49m\u001b[43m,\u001b[49m\u001b[43mOllamaEmbeddings\u001b[49m\u001b[43m(\u001b[49m\u001b[43m)\u001b[49m\u001b[43m)\u001b[49m\n",
      "File \u001b[1;32mc:\\Users\\priyansh singh\\AppData\\Local\\Programs\\Python\\Python312\\Lib\\site-packages\\langchain_community\\vectorstores\\chroma.py:887\u001b[0m, in \u001b[0;36mChroma.from_documents\u001b[1;34m(cls, documents, embedding, ids, collection_name, persist_directory, client_settings, client, collection_metadata, **kwargs)\u001b[0m\n\u001b[0;32m    885\u001b[0m texts \u001b[38;5;241m=\u001b[39m [doc\u001b[38;5;241m.\u001b[39mpage_content \u001b[38;5;28;01mfor\u001b[39;00m doc \u001b[38;5;129;01min\u001b[39;00m documents]\n\u001b[0;32m    886\u001b[0m metadatas \u001b[38;5;241m=\u001b[39m [doc\u001b[38;5;241m.\u001b[39mmetadata \u001b[38;5;28;01mfor\u001b[39;00m doc \u001b[38;5;129;01min\u001b[39;00m documents]\n\u001b[1;32m--> 887\u001b[0m \u001b[38;5;28;01mreturn\u001b[39;00m \u001b[38;5;28;43mcls\u001b[39;49m\u001b[38;5;241;43m.\u001b[39;49m\u001b[43mfrom_texts\u001b[49m\u001b[43m(\u001b[49m\n\u001b[0;32m    888\u001b[0m \u001b[43m    \u001b[49m\u001b[43mtexts\u001b[49m\u001b[38;5;241;43m=\u001b[39;49m\u001b[43mtexts\u001b[49m\u001b[43m,\u001b[49m\n\u001b[0;32m    889\u001b[0m \u001b[43m    \u001b[49m\u001b[43membedding\u001b[49m\u001b[38;5;241;43m=\u001b[39;49m\u001b[43membedding\u001b[49m\u001b[43m,\u001b[49m\n\u001b[0;32m    890\u001b[0m \u001b[43m    \u001b[49m\u001b[43mmetadatas\u001b[49m\u001b[38;5;241;43m=\u001b[39;49m\u001b[43mmetadatas\u001b[49m\u001b[43m,\u001b[49m\n\u001b[0;32m    891\u001b[0m \u001b[43m    \u001b[49m\u001b[43mids\u001b[49m\u001b[38;5;241;43m=\u001b[39;49m\u001b[43mids\u001b[49m\u001b[43m,\u001b[49m\n\u001b[0;32m    892\u001b[0m \u001b[43m    \u001b[49m\u001b[43mcollection_name\u001b[49m\u001b[38;5;241;43m=\u001b[39;49m\u001b[43mcollection_name\u001b[49m\u001b[43m,\u001b[49m\n\u001b[0;32m    893\u001b[0m \u001b[43m    \u001b[49m\u001b[43mpersist_directory\u001b[49m\u001b[38;5;241;43m=\u001b[39;49m\u001b[43mpersist_directory\u001b[49m\u001b[43m,\u001b[49m\n\u001b[0;32m    894\u001b[0m \u001b[43m    \u001b[49m\u001b[43mclient_settings\u001b[49m\u001b[38;5;241;43m=\u001b[39;49m\u001b[43mclient_settings\u001b[49m\u001b[43m,\u001b[49m\n\u001b[0;32m    895\u001b[0m \u001b[43m    \u001b[49m\u001b[43mclient\u001b[49m\u001b[38;5;241;43m=\u001b[39;49m\u001b[43mclient\u001b[49m\u001b[43m,\u001b[49m\n\u001b[0;32m    896\u001b[0m \u001b[43m    \u001b[49m\u001b[43mcollection_metadata\u001b[49m\u001b[38;5;241;43m=\u001b[39;49m\u001b[43mcollection_metadata\u001b[49m\u001b[43m,\u001b[49m\n\u001b[0;32m    897\u001b[0m \u001b[43m    \u001b[49m\u001b[38;5;241;43m*\u001b[39;49m\u001b[38;5;241;43m*\u001b[39;49m\u001b[43mkwargs\u001b[49m\u001b[43m,\u001b[49m\n\u001b[0;32m    898\u001b[0m \u001b[43m\u001b[49m\u001b[43m)\u001b[49m\n",
      "File \u001b[1;32mc:\\Users\\priyansh singh\\AppData\\Local\\Programs\\Python\\Python312\\Lib\\site-packages\\langchain_community\\vectorstores\\chroma.py:817\u001b[0m, in \u001b[0;36mChroma.from_texts\u001b[1;34m(cls, texts, embedding, metadatas, ids, collection_name, persist_directory, client_settings, client, collection_metadata, **kwargs)\u001b[0m\n\u001b[0;32m    784\u001b[0m \u001b[38;5;129m@classmethod\u001b[39m\n\u001b[0;32m    785\u001b[0m \u001b[38;5;28;01mdef\u001b[39;00m \u001b[38;5;21mfrom_texts\u001b[39m(\n\u001b[0;32m    786\u001b[0m     \u001b[38;5;28mcls\u001b[39m: Type[Chroma],\n\u001b[1;32m   (...)\u001b[0m\n\u001b[0;32m    796\u001b[0m     \u001b[38;5;241m*\u001b[39m\u001b[38;5;241m*\u001b[39mkwargs: Any,\n\u001b[0;32m    797\u001b[0m ) \u001b[38;5;241m-\u001b[39m\u001b[38;5;241m>\u001b[39m Chroma:\n\u001b[0;32m    798\u001b[0m \u001b[38;5;250m    \u001b[39m\u001b[38;5;124;03m\"\"\"Create a Chroma vectorstore from a raw documents.\u001b[39;00m\n\u001b[0;32m    799\u001b[0m \n\u001b[0;32m    800\u001b[0m \u001b[38;5;124;03m    If a persist_directory is specified, the collection will be persisted there.\u001b[39;00m\n\u001b[1;32m   (...)\u001b[0m\n\u001b[0;32m    815\u001b[0m \u001b[38;5;124;03m        Chroma: Chroma vectorstore.\u001b[39;00m\n\u001b[0;32m    816\u001b[0m \u001b[38;5;124;03m    \"\"\"\u001b[39;00m\n\u001b[1;32m--> 817\u001b[0m     chroma_collection \u001b[38;5;241m=\u001b[39m \u001b[38;5;28;43mcls\u001b[39;49m\u001b[43m(\u001b[49m\n\u001b[0;32m    818\u001b[0m \u001b[43m        \u001b[49m\u001b[43mcollection_name\u001b[49m\u001b[38;5;241;43m=\u001b[39;49m\u001b[43mcollection_name\u001b[49m\u001b[43m,\u001b[49m\n\u001b[0;32m    819\u001b[0m \u001b[43m        \u001b[49m\u001b[43membedding_function\u001b[49m\u001b[38;5;241;43m=\u001b[39;49m\u001b[43membedding\u001b[49m\u001b[43m,\u001b[49m\n\u001b[0;32m    820\u001b[0m \u001b[43m        \u001b[49m\u001b[43mpersist_directory\u001b[49m\u001b[38;5;241;43m=\u001b[39;49m\u001b[43mpersist_directory\u001b[49m\u001b[43m,\u001b[49m\n\u001b[0;32m    821\u001b[0m \u001b[43m        \u001b[49m\u001b[43mclient_settings\u001b[49m\u001b[38;5;241;43m=\u001b[39;49m\u001b[43mclient_settings\u001b[49m\u001b[43m,\u001b[49m\n\u001b[0;32m    822\u001b[0m \u001b[43m        \u001b[49m\u001b[43mclient\u001b[49m\u001b[38;5;241;43m=\u001b[39;49m\u001b[43mclient\u001b[49m\u001b[43m,\u001b[49m\n\u001b[0;32m    823\u001b[0m \u001b[43m        \u001b[49m\u001b[43mcollection_metadata\u001b[49m\u001b[38;5;241;43m=\u001b[39;49m\u001b[43mcollection_metadata\u001b[49m\u001b[43m,\u001b[49m\n\u001b[0;32m    824\u001b[0m \u001b[43m        \u001b[49m\u001b[38;5;241;43m*\u001b[39;49m\u001b[38;5;241;43m*\u001b[39;49m\u001b[43mkwargs\u001b[49m\u001b[43m,\u001b[49m\n\u001b[0;32m    825\u001b[0m \u001b[43m    \u001b[49m\u001b[43m)\u001b[49m\n\u001b[0;32m    826\u001b[0m     \u001b[38;5;28;01mif\u001b[39;00m ids \u001b[38;5;129;01mis\u001b[39;00m \u001b[38;5;28;01mNone\u001b[39;00m:\n\u001b[0;32m    827\u001b[0m         ids \u001b[38;5;241m=\u001b[39m [\u001b[38;5;28mstr\u001b[39m(uuid\u001b[38;5;241m.\u001b[39muuid4()) \u001b[38;5;28;01mfor\u001b[39;00m _ \u001b[38;5;129;01min\u001b[39;00m texts]\n",
      "File \u001b[1;32mc:\\Users\\priyansh singh\\AppData\\Local\\Programs\\Python\\Python312\\Lib\\site-packages\\langchain_core\\_api\\deprecation.py:216\u001b[0m, in \u001b[0;36mdeprecated.<locals>.deprecate.<locals>.finalize.<locals>.warn_if_direct_instance\u001b[1;34m(self, *args, **kwargs)\u001b[0m\n\u001b[0;32m    214\u001b[0m     warned \u001b[38;5;241m=\u001b[39m \u001b[38;5;28;01mTrue\u001b[39;00m\n\u001b[0;32m    215\u001b[0m     emit_warning()\n\u001b[1;32m--> 216\u001b[0m \u001b[38;5;28;01mreturn\u001b[39;00m \u001b[43mwrapped\u001b[49m\u001b[43m(\u001b[49m\u001b[38;5;28;43mself\u001b[39;49m\u001b[43m,\u001b[49m\u001b[43m \u001b[49m\u001b[38;5;241;43m*\u001b[39;49m\u001b[43margs\u001b[49m\u001b[43m,\u001b[49m\u001b[43m \u001b[49m\u001b[38;5;241;43m*\u001b[39;49m\u001b[38;5;241;43m*\u001b[39;49m\u001b[43mkwargs\u001b[49m\u001b[43m)\u001b[49m\n",
      "File \u001b[1;32mc:\\Users\\priyansh singh\\AppData\\Local\\Programs\\Python\\Python312\\Lib\\site-packages\\langchain_community\\vectorstores\\chroma.py:86\u001b[0m, in \u001b[0;36mChroma.__init__\u001b[1;34m(self, collection_name, embedding_function, persist_directory, client_settings, collection_metadata, client, relevance_score_fn)\u001b[0m\n\u001b[0;32m     84\u001b[0m     \u001b[38;5;28;01mimport\u001b[39;00m \u001b[38;5;21;01mchromadb\u001b[39;00m\u001b[38;5;21;01m.\u001b[39;00m\u001b[38;5;21;01mconfig\u001b[39;00m\n\u001b[0;32m     85\u001b[0m \u001b[38;5;28;01mexcept\u001b[39;00m \u001b[38;5;167;01mImportError\u001b[39;00m:\n\u001b[1;32m---> 86\u001b[0m     \u001b[38;5;28;01mraise\u001b[39;00m \u001b[38;5;167;01mImportError\u001b[39;00m(\n\u001b[0;32m     87\u001b[0m         \u001b[38;5;124m\"\u001b[39m\u001b[38;5;124mCould not import chromadb python package. \u001b[39m\u001b[38;5;124m\"\u001b[39m\n\u001b[0;32m     88\u001b[0m         \u001b[38;5;124m\"\u001b[39m\u001b[38;5;124mPlease install it with `pip install chromadb`.\u001b[39m\u001b[38;5;124m\"\u001b[39m\n\u001b[0;32m     89\u001b[0m     )\n\u001b[0;32m     91\u001b[0m \u001b[38;5;28;01mif\u001b[39;00m client \u001b[38;5;129;01mis\u001b[39;00m \u001b[38;5;129;01mnot\u001b[39;00m \u001b[38;5;28;01mNone\u001b[39;00m:\n\u001b[0;32m     92\u001b[0m     \u001b[38;5;28mself\u001b[39m\u001b[38;5;241m.\u001b[39m_client_settings \u001b[38;5;241m=\u001b[39m client_settings\n",
      "\u001b[1;31mImportError\u001b[0m: Could not import chromadb python package. Please install it with `pip install chromadb`."
     ]
    }
   ],
   "source": [
    "#vector embedding and vector store\n",
    "from langchain_community.embeddings import OllamaEmbeddings\n",
    "from langchain_community.vectorstores import Chroma\n",
    "dfb=Chroma.from_documents(documents[:20],OllamaEmbeddings())"
   ]
  }
 ],
 "metadata": {
  "kernelspec": {
   "display_name": "Python 3",
   "language": "python",
   "name": "python3"
  },
  "language_info": {
   "codemirror_mode": {
    "name": "ipython",
    "version": 3
   },
   "file_extension": ".py",
   "mimetype": "text/x-python",
   "name": "python",
   "nbconvert_exporter": "python",
   "pygments_lexer": "ipython3",
   "version": "3.12.5"
  }
 },
 "nbformat": 4,
 "nbformat_minor": 2
}
